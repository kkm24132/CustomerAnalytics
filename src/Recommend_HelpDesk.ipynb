{
 "cells": [
  {
   "cell_type": "markdown",
   "metadata": {},
   "source": [
    "# ITOps Analytics\n",
    "\n",
    "## UC: Self-Service Help Desk\n"
   ]
  },
  {
   "cell_type": "markdown",
   "metadata": {},
   "source": [
    "### Problem Statement / Business Objective:\n",
    "\n",
    "We are in a typical IT Helpdesk Office setup. We have the following information available with us.\n",
    "a) A dataset comprising of list of FAQ articles and a corresponding set of questions.\n",
    "b) The FAQ article can have multiple questions associated with them.\n",
    "\n",
    "Objective is to build a solution / an NLP model that can take a new user question and find the closest question in the dataset. We then pick corresponding FAQ article and return it to the user. So the search is AI enabled and user does not have to worry about finding the appropriate and relevant article.\n",
    "\n",
    "### Benefits:\n",
    "\n",
    "a) Ability to automate the search process of detecting appropriate FAQ articles from a huge pool of repository.\n",
    "\n",
    "b) Reduction in maintenance cost\n",
    "\n",
    "c) Leverage AI enabled method to improvise automation capability\n",
    "\n",
    "d) Reduction in human/manual error\n"
   ]
  },
  {
   "cell_type": "code",
   "execution_count": 1,
   "metadata": {},
   "outputs": [],
   "source": [
    "#Install all related packages/libraries. \n",
    "#If you find additional packages missing, please install them in your virtual environment.\n",
    "import sys\n",
    "import os\n",
    "#!conda install --yes --prefix {sys.prefix} pandas tensorflow scikit-learn gensim"
   ]
  },
  {
   "cell_type": "code",
   "execution_count": 2,
   "metadata": {},
   "outputs": [
    {
     "data": {
      "text/plain": [
       "'C:\\\\Users\\\\kamalakanta.mishra\\\\Desktop\\\\Kamal\\\\MyStuff\\\\ITOps_Analytics\\\\NotebookFiles'"
      ]
     },
     "execution_count": 2,
     "metadata": {},
     "output_type": "execute_result"
    }
   ],
   "source": [
    "cwd = os.getcwd()\n",
    "cwd"
   ]
  },
  {
   "cell_type": "markdown",
   "metadata": {},
   "source": [
    "### 1. Building a Document Vector"
   ]
  },
  {
   "cell_type": "code",
   "execution_count": 3,
   "metadata": {},
   "outputs": [
    {
     "name": "stdout",
     "output_type": "stream",
     "text": [
      "HelpDesk Data: \n",
      "                                            Question  \\\n",
      "0              My Mac does not boot, what can I do ?   \n",
      "1                Can Mac Air get infected by a Virus   \n",
      "2   My Mac is having boot problems, how do I fix it?   \n",
      "3                 Do I need an anti virus on my Mac?   \n",
      "4  I have trouble connecting my monitor to my Mac...   \n",
      "\n",
      "                   LinkToAnswer  \n",
      "0  http://faq/mac-does-not-boot  \n",
      "1     http://faq/mac-book-virus  \n",
      "2  http://faq/mac-does-not-boot  \n",
      "3     http://faq/mac-book-virus  \n",
      "4  http://faq/mac-monitor-setup  \n"
     ]
    }
   ],
   "source": [
    "from collections import defaultdict\n",
    "from gensim import corpora\n",
    "from gensim.parsing.preprocessing import remove_stopwords\n",
    "import numpy as np\n",
    "import pandas as pd\n",
    "\n",
    "#Read the input CSV into a Pandas dataframe\n",
    "helpdesk_data = pd.read_csv(\"helpdesk_dataset.csv\")\n",
    "\n",
    "print(\"HelpDesk Data: \")  \n",
    "print(helpdesk_data.head())"
   ]
  },
  {
   "cell_type": "code",
   "execution_count": 4,
   "metadata": {},
   "outputs": [],
   "source": [
    "#Extract the Question column from dataset\n",
    "documents = helpdesk_data[\"Question\"]\n",
    "\n",
    "#Function to perform data cleansing of the document\n",
    "def process_document(document):\n",
    "\n",
    "    #Remove stopwords, convert to lower case and remove \"?\" character\n",
    "    cleaned_document = remove_stopwords(document.lower()).replace(\"?\",\"\")  \n",
    "    return cleaned_document.split()\n",
    "\n",
    "#Create a document vector\n",
    "doc_vectors=[process_document(document)\n",
    "             for document in documents]\n"
   ]
  },
  {
   "cell_type": "code",
   "execution_count": 5,
   "metadata": {},
   "outputs": [
    {
     "name": "stdout",
     "output_type": "stream",
     "text": [
      "Can Mac Air get infected by a Virus\n",
      "['mac', 'air', 'infected', 'virus']\n"
     ]
    }
   ],
   "source": [
    "#Print the document and the corresponding document vector to compare\n",
    "print(documents[1])\n",
    "print(doc_vectors[1])"
   ]
  },
  {
   "cell_type": "markdown",
   "metadata": {},
   "source": [
    "### 2. Creating the LSI Model\n",
    "\n",
    "LSI - Latent Semantic Indexing"
   ]
  },
  {
   "cell_type": "code",
   "execution_count": 6,
   "metadata": {},
   "outputs": [
    {
     "name": "stdout",
     "output_type": "stream",
     "text": [
      "Dictionary created :\n"
     ]
    },
    {
     "data": {
      "text/plain": [
       "{'boot,': 0,\n",
       " 'mac': 1,\n",
       " 'air': 2,\n",
       " 'infected': 3,\n",
       " 'virus': 4,\n",
       " 'boot': 5,\n",
       " 'fix': 6,\n",
       " 'having': 7,\n",
       " 'it': 8,\n",
       " 'problems,': 9,\n",
       " 'anti': 10,\n",
       " 'need': 11,\n",
       " 'connecting': 12,\n",
       " 'help': 13,\n",
       " 'mac.': 14,\n",
       " 'monitor': 15,\n",
       " 'trouble': 16,\n",
       " 'boots,': 17,\n",
       " 'error': 18,\n",
       " 'shows': 19,\n",
       " 'software': 20,\n",
       " 'unsupporterd': 21,\n",
       " 'connected': 22,\n",
       " 'proper': 23,\n",
       " 'resolution': 24,\n",
       " 'flicker': 25,\n",
       " 'monitor.': 26,\n",
       " 'hdmi': 27,\n",
       " 'use': 28,\n",
       " 'connect': 29,\n",
       " 'monitors': 30,\n",
       " 'windows': 31,\n",
       " 'machine': 32,\n",
       " 'machine.': 33,\n",
       " 'linux': 34}"
      ]
     },
     "execution_count": 6,
     "metadata": {},
     "output_type": "execute_result"
    }
   ],
   "source": [
    "#Create the dictionary based on document vectors\n",
    "dictionary = corpora.Dictionary(doc_vectors)\n",
    "\n",
    "print(\"Dictionary created :\")\n",
    "dictionary.token2id\n"
   ]
  },
  {
   "cell_type": "code",
   "execution_count": 8,
   "metadata": {},
   "outputs": [
    {
     "name": "stdout",
     "output_type": "stream",
     "text": [
      "['mac', 'air', 'infected', 'virus']\n",
      "[(1, 1), (2, 1), (3, 1), (4, 1)]\n"
     ]
    }
   ],
   "source": [
    "#Convert document vector to a corpus based on identifiers in the dictionary\n",
    "#Create a corpus\n",
    "corpus = [dictionary.doc2bow(doc_vector) \n",
    "          for doc_vector in doc_vectors]\n",
    "\n",
    "#Review the corpus generated\n",
    "print(doc_vectors[1])\n",
    "print(corpus[1])\n",
    "\n",
    "# So each word will be mapped to a tuple"
   ]
  },
  {
   "cell_type": "code",
   "execution_count": 10,
   "metadata": {},
   "outputs": [
    {
     "name": "stdout",
     "output_type": "stream",
     "text": [
      "[ 1.0000000e+00  3.5355341e-01  2.8867510e-01  3.5355341e-01\n",
      " -2.3960363e-08  2.8867507e-01 -2.1823926e-08 -7.7285724e-09\n",
      "  3.5355344e-01  4.0824834e-01  5.0000000e-01  7.4620088e-11\n",
      " -8.1208427e-09  5.7024478e-09 -1.6374955e-08  4.0824831e-01\n",
      "  1.0141667e-08 -1.6796031e-09 -3.0654340e-10 -1.4191170e-08]\n",
      "[ 3.5355341e-01  9.9999994e-01  2.0412414e-01  4.9999994e-01\n",
      " -1.5189915e-08  2.0412417e-01 -5.8887246e-09  2.8867513e-01\n",
      "  2.5000003e-01  2.8867516e-01  7.2798940e-09  5.7735032e-01\n",
      " -1.3715472e-08  2.2360681e-01 -2.6795817e-08  3.0326026e-09\n",
      "  5.7735032e-01 -1.9818462e-08  2.2360682e-01 -2.7807575e-08]\n",
      "[ 2.8867510e-01  2.0412414e-01  1.0000000e+00  2.0412415e-01\n",
      "  3.0523812e-09  1.6666669e-01  3.0860674e-01 -3.0340328e-09\n",
      "  2.0412417e-01  2.3570229e-01 -6.0323577e-09  1.7852827e-08\n",
      "  8.3333331e-01  1.1366384e-08 -1.2746543e-08 -8.1723837e-09\n",
      " -1.3646855e-08  8.3333337e-01 -1.6639047e-08 -3.4284398e-08]\n",
      "[ 3.53553414e-01  4.99999940e-01  2.04124153e-01  9.99999940e-01\n",
      "  4.98656005e-10  2.04124182e-01  1.17844845e-08  2.88675159e-01\n",
      "  2.49999955e-01  2.88675129e-01 -5.27562438e-09  2.88675189e-01\n",
      " -5.29849320e-09  6.70820296e-01 -2.72109268e-08  6.55069554e-09\n",
      "  2.88675100e-01 -5.79316062e-09  6.70820415e-01 -2.37535165e-08]\n",
      "[-2.3960363e-08 -1.5189915e-08  3.0523812e-09  4.9865601e-10\n",
      "  9.9999994e-01  2.2247040e-09  3.3806169e-01 -5.7358149e-09\n",
      "  2.2360680e-01  9.5099599e-09  2.4513482e-09 -6.2219230e-09\n",
      " -1.5260390e-08 -1.2731247e-08  7.3029667e-01 -1.0611580e-08\n",
      " -1.0344358e-09  5.2636103e-08 -4.3971094e-11  7.3029667e-01]\n",
      "[ 2.8867507e-01  2.0412417e-01  1.6666669e-01  2.0412418e-01\n",
      "  2.2247040e-09  1.0000000e+00 -6.9586354e-09 -1.0185142e-09\n",
      "  2.0412421e-01  2.3570228e-01 -1.1659087e-08 -2.1225670e-09\n",
      " -1.2968235e-08 -1.6570976e-08 -9.9547197e-09 -8.8653076e-09\n",
      " -8.0347968e-09 -1.1227306e-08 -1.6512432e-08 -5.9865419e-09]\n",
      "[-2.18239258e-08 -5.88872462e-09  3.08606744e-01  1.17844845e-08\n",
      "  3.38061690e-01 -6.95863545e-09  1.00000000e+00 -4.55032945e-09\n",
      "  1.88982233e-01 -6.73614359e-11 -1.26192221e-08  1.47425494e-08\n",
      "  3.08606684e-01  2.17118981e-08  1.54303372e-01 -1.72823587e-08\n",
      "  1.55767061e-08  3.08606774e-01  9.30436950e-10  1.54303342e-01]\n",
      "[-7.7285724e-09  2.8867513e-01 -3.0340328e-09  2.8867516e-01\n",
      " -5.7358149e-09 -1.0185142e-09 -4.5503294e-09  1.0000000e+00\n",
      " -7.9510105e-09 -2.1527381e-08  2.2021354e-09  3.3333328e-01\n",
      " -7.1231021e-09  2.5819889e-01 -2.2682602e-08  3.6447998e-09\n",
      "  3.3333334e-01  1.0992502e-08  2.5819889e-01 -1.2045894e-09]\n",
      "[ 3.5355344e-01  2.5000003e-01  2.0412417e-01  2.4999996e-01\n",
      "  2.2360680e-01  2.0412421e-01  1.8898223e-01 -7.9510105e-09\n",
      "  9.9999994e-01  2.8867516e-01 -7.2108870e-09  2.6877154e-09\n",
      " -1.3937389e-08 -2.0187455e-08  2.0412414e-01 -5.3730260e-09\n",
      " -1.4636835e-08 -9.0124717e-09  7.4074288e-11  2.0412412e-01]\n",
      "[ 4.0824834e-01  2.8867516e-01  2.3570229e-01  2.8867513e-01\n",
      "  9.5099599e-09  2.3570228e-01 -6.7361436e-11 -2.1527381e-08\n",
      "  2.8867516e-01  1.0000000e+00 -7.1544370e-10 -1.3752919e-08\n",
      " -1.5528684e-08 -1.2713289e-08 -5.6484808e-09 -6.3058656e-09\n",
      " -3.8398863e-08 -4.2463406e-09 -9.6807478e-09 -6.7035639e-09]\n",
      "[ 5.0000000e-01  7.2798940e-09 -6.0323577e-09 -5.2756244e-09\n",
      "  2.4513482e-09 -1.1659087e-08 -1.2619222e-08  2.2021354e-09\n",
      " -7.2108870e-09 -7.1544370e-10  1.0000000e+00  4.0824831e-01\n",
      "  2.8867516e-01  3.1622782e-01  2.8867510e-01  4.0824831e-01\n",
      "  1.1318426e-09  2.6909230e-08  2.4466120e-09  1.4862166e-09]\n",
      "[ 7.4620088e-11  5.7735032e-01  1.7852827e-08  2.8867519e-01\n",
      " -6.2219230e-09 -2.1225670e-09  1.4742549e-08  3.3333328e-01\n",
      "  2.6877154e-09 -1.3752919e-08  4.0824831e-01  1.0000000e+00\n",
      "  2.3570229e-01  5.1639771e-01  2.3570228e-01 -2.0465761e-08\n",
      "  6.6666675e-01  8.2754612e-09  2.5819889e-01 -2.0818316e-08]\n",
      "[-8.12084266e-09 -1.37154723e-08  8.33333313e-01 -5.29849320e-09\n",
      " -1.52603903e-08 -1.29682354e-08  3.08606684e-01 -7.12310211e-09\n",
      " -1.39373890e-08 -1.55286841e-08  2.88675159e-01  2.35702291e-01\n",
      "  1.00000000e+00  1.82574213e-01  1.66666627e-01  7.82319187e-09\n",
      "  1.10717684e-08  8.33333373e-01 -1.17276597e-08 -1.36838585e-08]\n",
      "[ 5.7024478e-09  2.2360681e-01  1.1366384e-08  6.7082030e-01\n",
      " -1.2731247e-08 -1.6570976e-08  2.1711898e-08  2.5819889e-01\n",
      " -2.0187455e-08 -1.2713289e-08  3.1622782e-01  5.1639771e-01\n",
      "  1.8257421e-01  1.0000000e+00  1.8257420e-01  2.5819889e-01\n",
      "  2.5819895e-01  3.0713263e-08  8.0000001e-01  7.5695645e-09]\n",
      "[-1.6374955e-08 -2.6795817e-08 -1.2746543e-08 -2.7210927e-08\n",
      "  7.3029667e-01 -9.9547197e-09  1.5430337e-01 -2.2682602e-08\n",
      "  2.0412414e-01 -5.6484808e-09  2.8867510e-01  2.3570228e-01\n",
      "  1.6666663e-01  1.8257420e-01  9.9999994e-01 -2.9998073e-08\n",
      " -1.8794472e-08 -3.7006245e-08 -5.3424438e-09  8.3333337e-01]\n",
      "[ 4.0824831e-01  3.0326026e-09 -8.1723837e-09  6.5506955e-09\n",
      " -1.0611580e-08 -8.8653076e-09 -1.7282359e-08  3.6447998e-09\n",
      " -5.3730260e-09 -6.3058656e-09  4.0824831e-01 -2.0465761e-08\n",
      "  7.8231919e-09  2.5819889e-01 -2.9998073e-08  1.0000000e+00\n",
      "  3.3333328e-01  2.3570229e-01  5.1639777e-01  2.3570225e-01]\n",
      "[ 1.0141667e-08  5.7735032e-01 -1.3646855e-08  2.8867510e-01\n",
      " -1.0344358e-09 -8.0347968e-09  1.5576706e-08  3.3333334e-01\n",
      " -1.4636835e-08 -3.8398863e-08  1.1318426e-09  6.6666675e-01\n",
      "  1.1071768e-08  2.5819895e-01 -1.8794472e-08  3.3333328e-01\n",
      "  1.0000000e+00  2.3570225e-01  5.1639777e-01  2.3570225e-01]\n",
      "[-1.6796031e-09 -1.9818462e-08  8.3333337e-01 -5.7931606e-09\n",
      "  5.2636103e-08 -1.1227306e-08  3.0860677e-01  1.0992502e-08\n",
      " -9.0124717e-09 -4.2463406e-09  2.6909230e-08  8.2754612e-09\n",
      "  8.3333337e-01  3.0713263e-08 -3.7006245e-08  2.3570229e-01\n",
      "  2.3570225e-01  1.0000000e+00  1.8257421e-01  1.6666664e-01]\n",
      "[-3.0654340e-10  2.2360682e-01 -1.6639047e-08  6.7082042e-01\n",
      " -4.3971094e-11 -1.6512432e-08  9.3043695e-10  2.5819889e-01\n",
      "  7.4074288e-11 -9.6807478e-09  2.4466120e-09  2.5819889e-01\n",
      " -1.1727660e-08  8.0000001e-01 -5.3424438e-09  5.1639777e-01\n",
      "  5.1639777e-01  1.8257421e-01  1.0000000e+00  1.8257417e-01]\n",
      "[-1.41911700e-08 -2.78075749e-08 -3.42843975e-08 -2.37535165e-08\n",
      "  7.30296671e-01 -5.98654193e-09  1.54303342e-01 -1.20458943e-09\n",
      "  2.04124123e-01 -6.70356393e-09  1.48621659e-09 -2.08183160e-08\n",
      " -1.36838585e-08  7.56956453e-09  8.33333373e-01  2.35702246e-01\n",
      "  2.35702246e-01  1.66666642e-01  1.82574168e-01  1.00000000e+00]\n"
     ]
    }
   ],
   "source": [
    "#Now let's build a similarity index\n",
    "\n",
    "#First, Build the LSI Model\n",
    "from gensim import models,similarities\n",
    "\n",
    "#Create the model\n",
    "lsi = models.LsiModel(corpus, id2word=dictionary)\n",
    "\n",
    "#Create a similarity Index\n",
    "index = similarities.MatrixSimilarity(lsi[corpus])\n",
    "\n",
    "for similarities in index:\n",
    "    print(similarities)\n",
    "\n",
    "# We will get a nXn matrix output for every n records"
   ]
  },
  {
   "cell_type": "markdown",
   "metadata": {},
   "source": [
    "### 3. Recommending FAQs"
   ]
  },
  {
   "cell_type": "code",
   "execution_count": 11,
   "metadata": {},
   "outputs": [
    {
     "name": "stdout",
     "output_type": "stream",
     "text": [
      "Question translated to : [(1, 1), (5, 1)]\n",
      "Similarity scores : [(0, 0.6626272), (1, 0.46854818), (2, 0.765136), (3, 0.46854818), (4, 9.313226e-09), (5, 0.382568), (6, 2.9802322e-08), (7, -1.4901161e-08), (8, 0.46854818), (9, 0.54103285), (10, 0.0), (11, 1.4901161e-08), (12, 0.382568), (13, 0.0), (14, -7.450581e-09), (15, 7.450581e-09), (16, -7.450581e-09), (17, 0.382568), (18, -7.450581e-09), (19, -2.2351742e-08)]\n"
     ]
    }
   ],
   "source": [
    "# This is a sample question asked by the end user\n",
    "question = \"I have boot problems in my Mac\"\n",
    "\n",
    "#Pre Process the Question \n",
    "question_corpus = dictionary.doc2bow(process_document(question))\n",
    "print(\"Question translated to :\", question_corpus)\n",
    "\n",
    "#Create an LSI Representation\n",
    "vec_lsi = lsi[question_corpus]  \n",
    "\n",
    "#Find similarity of the question with existing documents\n",
    "sims = index[vec_lsi]  \n",
    "print(\"Similarity scores :\",list(enumerate(sims)))\n",
    "\n",
    "# We will get output as \"similarity scores\" for this particular question with each of the docs\n",
    "# 1st number indicates - the document ID\n",
    "# 2nd number indicates - the similarity score\n",
    "# The higher the similarity score, the more matching is this question to the document in the dataset\n"
   ]
  },
  {
   "cell_type": "code",
   "execution_count": 12,
   "metadata": {},
   "outputs": [
    {
     "name": "stdout",
     "output_type": "stream",
     "text": [
      "Sorted Document index : [ 2  0  9  8  1  3 12 17  5  6 11  4 15 13 10 16 18 14  7 19]\n",
      "\n",
      " ------------------------------------------------------------ \n",
      "\n",
      "0.765136  ->  My Mac is having boot problems, how do I fix it?\n",
      "0.6626272  ->  My Mac does not boot, what can I do ?\n",
      "0.54103285  ->  Can I connect two monitors to my Mac?\n",
      "0.46854818  ->  Can I use a HDMI monitor with my Mac?\n",
      "0.46854818  ->  Can Mac Air get infected by a Virus\n",
      "0.46854818  ->  Do I need an anti virus on my Mac?\n",
      "0.382568  ->  My Windows is having boot problems, how do I fix it?\n",
      "0.382568  ->  My Linux is having boot problems, how do I fix it?\n",
      "0.382568  ->  When my Mac boots, it shows an unsupporterd software error\n",
      "2.9802322e-08  ->  My Monitor does not show in proper resolution when connected to my Mac. How do I fix it?\n",
      "1.4901161e-08  ->  Can Windows get infected by a Virus\n",
      "9.313226e-09  ->  I have trouble connecting my monitor to my Mac. Can you please help?\n",
      "7.450581e-09  ->  My Linux machine does not boot, what can I do ?\n",
      "0.0  ->  Do I need an anti virus on my Windows machine?\n",
      "0.0  ->  My Windows does not boot, what can I do ?\n",
      "-7.450581e-09  ->  Can Linux get infected by a Virus\n",
      "-7.450581e-09  ->  Do I need an anti virus on my Linux machine?\n",
      "-7.450581e-09  ->  I have trouble connecting my monitor to my Windows machine. Can you please help?\n",
      "-1.4901161e-08  ->  I see a flicker in my monitor. Is that a virus?\n",
      "-2.2351742e-08  ->  I have trouble connecting my monitor to my Linux machine. Can you please help?\n",
      "\n",
      " ------------------------------------------------------------ \n",
      "\n",
      "Recommended FAQ : http://faq/mac-does-not-boot\n"
     ]
    }
   ],
   "source": [
    "#Find the corresponding FAQ Link\n",
    "\n",
    "#sort an array in reverse order and get indexes\n",
    "matches=np.argsort(sims)[::-1] \n",
    "print(\"Sorted Document index :\", matches)\n",
    "\n",
    "print(\"\\n\", \"-\"*60, \"\\n\")\n",
    "for i in matches:\n",
    "    print(sims[i], \" -> \", helpdesk_data.iloc[i][\"Question\"])\n",
    "\n",
    "print(\"\\n\", \"-\"*60, \"\\n\")\n",
    "print(\"Recommended FAQ :\" , helpdesk_data.iloc[matches[0]][\"LinkToAnswer\"] )"
   ]
  },
  {
   "cell_type": "code",
   "execution_count": null,
   "metadata": {},
   "outputs": [],
   "source": []
  }
 ],
 "metadata": {
  "kernelspec": {
   "display_name": "Python 3",
   "language": "python",
   "name": "python3"
  },
  "language_info": {
   "codemirror_mode": {
    "name": "ipython",
    "version": 3
   },
   "file_extension": ".py",
   "mimetype": "text/x-python",
   "name": "python",
   "nbconvert_exporter": "python",
   "pygments_lexer": "ipython3",
   "version": "3.7.7"
  }
 },
 "nbformat": 4,
 "nbformat_minor": 4
}
